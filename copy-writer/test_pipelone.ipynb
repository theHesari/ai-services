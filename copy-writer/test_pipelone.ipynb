{
 "cells": [
  {
   "cell_type": "code",
   "execution_count": 20,
   "id": "72a44235",
   "metadata": {},
   "outputs": [],
   "source": [
    "# !pip install langchain langgraph langsmith openai python-dotenv pydantic requests beautifulsoup4 textstat yake python-readability fastapi uvicorn\n"
   ]
  },
  {
   "cell_type": "code",
   "execution_count": 21,
   "id": "6c8f4119",
   "metadata": {},
   "outputs": [],
   "source": [
    "# %pip install langchain-openai"
   ]
  },
  {
   "cell_type": "code",
   "execution_count": 22,
   "id": "3ad8ba2b",
   "metadata": {},
   "outputs": [
    {
     "data": {
      "text/plain": [
       "True"
      ]
     },
     "execution_count": 22,
     "metadata": {},
     "output_type": "execute_result"
    }
   ],
   "source": [
    "import os\n",
    "import sys\n",
    "from dotenv import load_dotenv\n",
    "\n",
    "# Add src to path\n",
    "# sys.path.append(os.path.join(os.path.dirname(__file__), \"src\"))\n",
    "\n",
    "# Load environment variables\n",
    "load_dotenv()"
   ]
  },
  {
   "cell_type": "code",
   "execution_count": 23,
   "id": "4f985f18",
   "metadata": {},
   "outputs": [],
   "source": [
    "api_key = os.getenv(\"OPENAI_API_KEY\")\n"
   ]
  },
  {
   "cell_type": "code",
   "execution_count": 24,
   "id": "c3158642",
   "metadata": {},
   "outputs": [],
   "source": [
    "from src.workflows.content_pipeline import ContentPipeline\n",
    "from src.models.content_models import ContentRequest, ContentType, Priority\n"
   ]
  },
  {
   "cell_type": "code",
   "execution_count": 25,
   "id": "8e5ccf23",
   "metadata": {},
   "outputs": [],
   "source": [
    "pipeline = ContentPipeline(\n",
    "    openai_api_key=api_key,\n",
    "    base_url=os.getenv(\"OPENAI_BASE_URL\"),\n",
    "    model=os.getenv(\"OPENAI_MODEL\"),\n",
    ")"
   ]
  },
  {
   "cell_type": "code",
   "execution_count": 26,
   "id": "1a003cf1",
   "metadata": {},
   "outputs": [
    {
     "data": {
      "text/plain": [
       "<src.workflows.content_pipeline.ContentPipeline at 0x188c2c9b770>"
      ]
     },
     "execution_count": 26,
     "metadata": {},
     "output_type": "execute_result"
    }
   ],
   "source": [
    "pipeline"
   ]
  },
  {
   "cell_type": "code",
   "execution_count": 27,
   "id": "c91bff4b",
   "metadata": {},
   "outputs": [],
   "source": [
    "test_request = ContentRequest(\n",
    "    topic=\"iPhone 17 Air 512GB Color - Lavender\",\n",
    "    content_type=ContentType.PRODUCT_DESCRIPTION,\n",
    "    priority=Priority.MEDIUM,\n",
    "    target_audience=\"early adopters and tech enthusiasts\",\n",
    "    tone=\"premium and aspirational\",\n",
    "    length=\"medium\",\n",
    ")"
   ]
  },
  {
   "cell_type": "code",
   "execution_count": 28,
   "id": "2ed41a16",
   "metadata": {},
   "outputs": [],
   "source": [
    "result = pipeline.process_request(test_request)"
   ]
  },
  {
   "cell_type": "code",
   "execution_count": 29,
   "id": "366cf1a5",
   "metadata": {},
   "outputs": [
    {
     "data": {
      "text/plain": [
       "{'success': False,\n",
       " 'error': \"'NoneType' object has no attribute 'get'\",\n",
       " 'timestamp': '2025-09-16T15:41:56.823894'}"
      ]
     },
     "execution_count": 29,
     "metadata": {},
     "output_type": "execute_result"
    }
   ],
   "source": [
    "result"
   ]
  },
  {
   "cell_type": "code",
   "execution_count": 30,
   "id": "870f1552",
   "metadata": {},
   "outputs": [
    {
     "name": "stdout",
     "output_type": "stream",
     "text": [
      "✅ Test successful!\n"
     ]
    },
    {
     "ename": "KeyError",
     "evalue": "'quality_report'",
     "output_type": "error",
     "traceback": [
      "\u001b[31m---------------------------------------------------------------------------\u001b[39m",
      "\u001b[31mKeyError\u001b[39m                                  Traceback (most recent call last)",
      "\u001b[36mCell\u001b[39m\u001b[36m \u001b[39m\u001b[32mIn[30]\u001b[39m\u001b[32m, line 2\u001b[39m\n\u001b[32m      1\u001b[39m \u001b[38;5;28mprint\u001b[39m(\u001b[33m\"\u001b[39m\u001b[33m✅ Test successful!\u001b[39m\u001b[33m\"\u001b[39m)\n\u001b[32m----> \u001b[39m\u001b[32m2\u001b[39m \u001b[38;5;28mprint\u001b[39m(\u001b[33mf\u001b[39m\u001b[33m\"\u001b[39m\u001b[33m📊 Quality Score: \u001b[39m\u001b[38;5;132;01m{\u001b[39;00m\u001b[43mresult\u001b[49m\u001b[43m[\u001b[49m\u001b[33;43m'\u001b[39;49m\u001b[33;43mquality_report\u001b[39;49m\u001b[33;43m'\u001b[39;49m\u001b[43m]\u001b[49m[\u001b[33m'\u001b[39m\u001b[33moverall_score\u001b[39m\u001b[33m'\u001b[39m]\u001b[38;5;132;01m}\u001b[39;00m\u001b[33m\"\u001b[39m)\n\u001b[32m      3\u001b[39m \u001b[38;5;28mprint\u001b[39m(\u001b[33mf\u001b[39m\u001b[33m\"\u001b[39m\u001b[33m📝 Word Count: \u001b[39m\u001b[38;5;132;01m{\u001b[39;00mresult[\u001b[33m'\u001b[39m\u001b[33mdraft\u001b[39m\u001b[33m'\u001b[39m][\u001b[33m'\u001b[39m\u001b[33mword_count\u001b[39m\u001b[33m'\u001b[39m]\u001b[38;5;132;01m}\u001b[39;00m\u001b[33m\"\u001b[39m)\n\u001b[32m      4\u001b[39m \u001b[38;5;28mprint\u001b[39m(\u001b[33mf\u001b[39m\u001b[33m\"\u001b[39m\u001b[33m🎯 Requires Review: \u001b[39m\u001b[38;5;132;01m{\u001b[39;00mresult[\u001b[33m'\u001b[39m\u001b[33mrequires_human_review\u001b[39m\u001b[33m'\u001b[39m]\u001b[38;5;132;01m}\u001b[39;00m\u001b[33m\"\u001b[39m)\n",
      "\u001b[31mKeyError\u001b[39m: 'quality_report'"
     ]
    }
   ],
   "source": [
    "print(\"✅ Test successful!\")\n",
    "print(f\"📊 Quality Score: {result['quality_report']['overall_score']}\")\n",
    "print(f\"📝 Word Count: {result['draft']['word_count']}\")\n",
    "print(f\"🎯 Requires Review: {result['requires_human_review']}\")\n"
   ]
  },
  {
   "cell_type": "code",
   "execution_count": null,
   "id": "4dc61485",
   "metadata": {},
   "outputs": [],
   "source": []
  }
 ],
 "metadata": {
  "kernelspec": {
   "display_name": "venv",
   "language": "python",
   "name": "python3"
  },
  "language_info": {
   "codemirror_mode": {
    "name": "ipython",
    "version": 3
   },
   "file_extension": ".py",
   "mimetype": "text/x-python",
   "name": "python",
   "nbconvert_exporter": "python",
   "pygments_lexer": "ipython3",
   "version": "3.12.3"
  }
 },
 "nbformat": 4,
 "nbformat_minor": 5
}
